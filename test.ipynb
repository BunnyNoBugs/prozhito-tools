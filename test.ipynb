{
 "cells": [
  {
   "cell_type": "code",
   "execution_count": 1,
   "metadata": {},
   "outputs": [],
   "source": [
    "import dump\n",
    "dw = dump.Wrapper(csvpath='prozhito-dump-1.40-11.04.2019')"
   ]
  },
  {
   "cell_type": "code",
   "execution_count": 2,
   "metadata": {},
   "outputs": [
    {
     "data": {
      "text/plain": [
       "[ #463400 \"Воскресенье. Вчера приехал...\" @2950 [0-0-0] ,\n",
       "  #465445 \"Ночью мы достигли...\" @2268 [0-0-0] ,\n",
       "  #430743 \"Суббота. Москва. Еду...\" @795 [0-12-21] ,\n",
       "  ... ,\n",
       "  #31036 \"a...\" @82 [2959-3-9] ]"
      ]
     },
     "execution_count": 2,
     "metadata": {},
     "output_type": "execute_result"
    }
   ],
   "source": [
    "dw.notes"
   ]
  },
  {
   "cell_type": "code",
   "execution_count": 5,
   "metadata": {},
   "outputs": [
    {
     "data": {
      "text/plain": [
       "[ #62200 \"Четверг. Буш сегодня...\" @320 [1991-8-1] ,\n",
       "  #112334 \"Депутаты на каникулах....\" @437 [1991-8-1] ,\n",
       "  #368278 \"в поезде. Я,...\" @967 [1991-8-1] ,\n",
       "  ... ,\n",
       "  #365647 \"Суббота. Лена с...\" @1060 [1991-8-31] ]"
      ]
     },
     "execution_count": 5,
     "metadata": {},
     "output_type": "execute_result"
    }
   ],
   "source": [
    "august_notes = dw.notes[(1991, 8, 1) : (1991, 8, 31)]\n",
    "august_notes"
   ]
  }
 ],
 "metadata": {
  "kernelspec": {
   "display_name": "Python 3",
   "language": "python",
   "name": "python3"
  },
  "language_info": {
   "codemirror_mode": {
    "name": "ipython",
    "version": 3
   },
   "file_extension": ".py",
   "mimetype": "text/x-python",
   "name": "python",
   "nbconvert_exporter": "python",
   "pygments_lexer": "ipython3",
   "version": "3.7.9"
  }
 },
 "nbformat": 4,
 "nbformat_minor": 2
}
